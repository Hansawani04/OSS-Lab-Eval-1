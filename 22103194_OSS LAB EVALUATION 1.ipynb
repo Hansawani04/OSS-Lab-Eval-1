{
 "cells": [
  {
   "cell_type": "code",
   "execution_count": 26,
   "id": "0e6bc4be",
   "metadata": {},
   "outputs": [
    {
     "name": "stdout",
     "output_type": "stream",
     "text": [
      "Enter book title:hARRY pOTTER\n",
      "Enter book author:jk rowling\n",
      "Enter book ISBN:2874\n",
      "Enter book genre:fantasy\n",
      "Enter book availability status:yes\n",
      "Enter book title:haryy potter 2\n",
      "Enter book author:jk rowling\n",
      "Enter book ISBN:3468\n",
      "Enter book genre:fantasy\n",
      "Enter book availability status:no\n",
      "{2874: {'Title': 'hARRY pOTTER', 'Author': 'jk rowling', 'ISBN': 2874, 'Genre': 'fantasy', 'Availability': 'yes'}, 3468: {'Title': 'haryy potter 2', 'Author': 'jk rowling', 'ISBN': 3468, 'Genre': 'fantasy', 'Availability': 'no'}}\n",
      "Enter isbn of book to update:3468\n",
      "Enter 1 for title, 2 for author, 3 for genre and 4 for availability status:1\n",
      "Enter book title:Harry Potter 2\n",
      "{2874: {'Title': 'hARRY pOTTER', 'Author': 'jk rowling', 'ISBN': 2874, 'Genre': 'fantasy', 'Availability': 'yes'}, 3468: {'Title': 'Harry Potter 2', 'Author': 'jk rowling', 'ISBN': 3468, 'Genre': 'fantasy', 'Availability': 'no'}}\n",
      "Enter isbn to search:3468\n",
      "{'Title': 'Harry Potter 2', 'Author': 'jk rowling', 'ISBN': 3468, 'Genre': 'fantasy', 'Availability': 'no'}\n"
     ]
    }
   ],
   "source": [
    "Books={}\n",
    "def add_book():\n",
    "    title=input(\"Enter book title:\")\n",
    "    author=input(\"Enter book author:\")\n",
    "    isbn=int(input(\"Enter book ISBN:\"))\n",
    "    genre=input(\"Enter book genre:\")\n",
    "    availability=input(\"Enter book availability status:\")\n",
    "    Books[isbn]={\"Title\":title,\"Author\":author,\"ISBN\":isbn,\"Genre\":genre,\"Availability\":availability}\n",
    "\n",
    "def update_book_details():\n",
    "    isbn=int(input(\"Enter isbn of book to update:\"))\n",
    "    choice=int(input(\"Enter 1 for title, 2 for author, 3 for genre and 4 for availability status:\"))\n",
    "    if choice==1:\n",
    "        title=input(\"Enter book title:\")\n",
    "        Books[isbn][\"Title\"]=title\n",
    "    elif choice==2:\n",
    "        author=input(\"Enter book author:\")\n",
    "        Books[isbn][\"Author\"]=author\n",
    "    elif choice==3:\n",
    "        genre=input(\"Enter book genre:\")\n",
    "        Books[isbn][\"Genre\"]=genre\n",
    "    elif choice==4:\n",
    "        availability=input(\"Enter book availability status:\")\n",
    "        Books[isbn][\"Availability\"]=availability\n",
    "\n",
    "\n",
    "def search_by_isbn():\n",
    "    isbn=int(input(\"Enter isbn to search:\"))\n",
    "    book_details=Books.get(isbn)\n",
    "    print(book_details)\n",
    "    \n",
    "\n",
    "add_book()\n",
    "add_book()\n",
    "print(Books)\n",
    "update_book_details()\n",
    "print(Books)\n",
    "search_by_isbn()\n",
    "\n"
   ]
  },
  {
   "cell_type": "code",
   "execution_count": null,
   "id": "a78e083f",
   "metadata": {},
   "outputs": [],
   "source": [
    "def generate_genre_report():\n",
    "    genre=input(\"Enter book genre whose report is to be generated:\")\n",
    "    if Books[][\"Genre\"]==genre:\n",
    "        if Books[][\"Availability\"]==\"Yes\":\n",
    "            print(Books[][\"Title\"])\n",
    "\n",
    "generate_genre_report()"
   ]
  }
 ],
 "metadata": {
  "kernelspec": {
   "display_name": "Python 3 (ipykernel)",
   "language": "python",
   "name": "python3"
  },
  "language_info": {
   "codemirror_mode": {
    "name": "ipython",
    "version": 3
   },
   "file_extension": ".py",
   "mimetype": "text/x-python",
   "name": "python",
   "nbconvert_exporter": "python",
   "pygments_lexer": "ipython3",
   "version": "3.11.5"
  }
 },
 "nbformat": 4,
 "nbformat_minor": 5
}
